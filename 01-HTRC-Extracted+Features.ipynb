{
 "cells": [
  {
   "cell_type": "markdown",
   "metadata": {},
   "source": [
    "# HathiTrust Research Center (HTRC)\n",
    "\n",
    "The [HathiTrust Digital Library](https://www.hathitrust.org/) contains over 14 million volumes scanned from academic libraries around the world (primarily in North America). The [HathiTrust Research Center](https://analytics.hathitrust.org/) allows researchers to access almost all of those texts in a few different modes for computational text analysis. \n",
    "\n",
    "This notebook will walk us through getting set-up to analyze [HTRC Extracted Features](https://wiki.htrc.illinois.edu/display/COM/Extracted+Features+Dataset) for volumes in HathiTrust in a Jupyter/Python environment. *Extracted Features* are currently (as of August 2017) the most robust way to access in-copyright works from the HT Library for computational analysis. \n",
    "\n",
    "For more information on HTRC: \n",
    "* [Library text mining guide page on HTRC](http://guides.lib.berkeley.edu/c.php?g=491766&p=3381443)\n",
    "* [Programming Historian's Text Mining in Python through the HTRC Feature Reader](http://programminghistorian.org/lessons/text-mining-with-extracted-features)\n",
    "\n",
    "## Installation\n",
    "\n",
    "To start we'll need to install a few things:\n",
    "* Install the *HTRC Feature Reader* to work with Extracted Features: "
   ]
  },
  {
   "cell_type": "code",
   "execution_count": 1,
   "metadata": {},
   "outputs": [],
   "source": [
    "%%capture\n",
    "!pip install htrc-feature-reader\n",
    "import os\n",
    "from htrc_features import FeatureReader\n",
    "from datascience import *\n",
    "import pandas as pd\n",
    "%matplotlib inline"
   ]
  },
  {
   "cell_type": "markdown",
   "metadata": {},
   "source": [
    "## Adding volumes from HathiTrust\n",
    "\n",
    "To build your own corpus, you first need to find the volumes you'd like to include in the [HathiTrust Library](https://www.hathitrust.org/). Alternately, you can access volumes from existing [public HT collections](https://babel.hathitrust.org/cgi/mb?colltype=featured), or use one of the sample datasets included below under the *Sample datasets* heading. To access extracted features from HathiTrust:\n",
    "\n",
    "* Install and configure [the HT + HTRC mashup](https://data.analytics.hathitrust.org/features/) browser extension.\n",
    "* Once the extension is running, go to the [HathiTrust Library](https://www.hathitrust.org/), and search for the titles you want to include.\n",
    "* You can manually download extracted features one result at a time by simply choosing the *Download Extracted Features* link for any item in your search results. Save the .json.bz2 file or files and skip to the next section, *Working with Extracted Features* below to load them into your workspace.\n",
    "* If you plan to work with a large number of texts, you might choose instead to create a collection in HathiTrust, and then download the Extracted Features for the entire collection at once. This requires a valid CalNet ID. \n",
    "\n",
    "### To create a collection:\n",
    "\n",
    "* [Login to HathiTrust](https://www.hathitrust.org/shibboleth)\n",
    "* Change the HathiTrust search tab to *Full-Text* or go to the [Advanced Full-Text search](https://babel.hathitrust.org/cgi/ls?a=page;page=advanced).\n",
    "![image](img/ht-full-text.png)\n",
    "* Check the boxes to the left of any search results you want to add to your collection (or select all), and use the *Select Collection* dropdown to *Add Selected* volumes to collections of your own design.\n",
    "![image](img/judith-butler-ht.png)\n",
    "![image](img/ht-add-selected.png)\n",
    "* Choose *My Collections* from the top of the HathiTrust interface, choose your collection, and from the *Download Metadata* button/dropdown choose the TSV option.\n",
    "![image](img/ht-json.png)\n",
    "* Open the TSV file, and then delete all of the columns except for the first column, *htitem_id.* Delete the *htitem_id* header row as well and then save the file to your working directory.\n",
    "\n",
    "## Loading Extracted Features\n",
    "\n",
    "Go to the directory where you plan to do your work.\n",
    "\n",
    "### Add a single volume\n",
    "If you're planning to analyze only a few volumes you can use the following command, replacing {{volume_id}} with your own:\n",
    "```\n",
    "htid2rsync {{volume_id}} | rsync -azv --files-from=- data.sharc.hathitrust.org::features/ local-folder/\n",
    "```\n",
    "\n",
    "### Add multiple volumes\n",
    "If you have a file of volume ids in a .txt file, with one ID per line, use --from-file filename, or just -f filename, and point to a text file with one volume ID on each line.\n",
    "```\n",
    "htid2rsync --f volumeids.txt | rsync -azv --files-from=- data.sharc.hathitrust.org::features/ local-folder/\n",
    "```\n",
    "\n",
    "### Sample datasets\n",
    "\n",
    "#### Complete Novels of Jane Austen (1 volume)\n",
    "```\n",
    "htid2rsync mdp.39015004788835 | rsync -azv --files-from=- data.sharc.hathitrust.org::features/ local-folder/\n",
    "```\n",
    "#### Nigerian Authors (30 volumes)\n",
    "authors-nigerian.txt includes volume IDs for 30 texts with the Library of Congress subject heading *Authors, Nigerian*. \n",
    "```\n",
    "htid2rsync --f authors-nigerian.txt | rsync -azv --files-from=- data.sharc.hathitrust.org::features/ local-folder/\n",
    "```\n",
    "\n",
    "#### San Francisco (Calif.) - History (111 volumes)\n",
    "sf-history.txt includes the volume ID for 111 texts with the Library of Congress subject heading *San Francisco (Calif.) - History*. \n",
    "```\n",
    "htid2rsync --f sf-history.txt | rsync -azv --files-from=- data.sharc.hathitrust.org::features/ local-folder/\n",
    "```\n",
    "\n",
    "#### Congressional Record (1200 volumes)\n",
    "congressional_record_ids.txt includes the volume ID for every *Congressional Record* volume that HathiTrust could share with us.\n",
    "```\n",
    "htid2rsync --f congressional_record_ids.txt | rsync -azv --files-from=- data.sharc.hathitrust.org::features/ local-folder/\n",
    "```\n",
    "\n",
    "#### Full 4TB library\n",
    "It's also possible to work with the entire library (4TB, so beware):\n",
    "```\n",
    "rsync -rv data.analytics.hathitrust.org::features/ .\n",
    "```\n",
    "\n",
    "Or to use existing lists of public-domain [fiction](http://data.analytics.hathitrust.org/genre/fiction_paths.txt), [drama](http://data.analytics.hathitrust.org/genre/drama_paths.txt), and [poetry](http://data.analytics.hathitrust.org/genre/poetry_paths.txt) (Underwood 2014).\n",
    "\n",
    "---\n",
    "\n",
    "# San Francisco History Example\n",
    "In the example, below, we have five volume IDs on San Francisco history from HathiTrust, which are listed in the file *vol_ids_5.txt.* You can modify the command to include your own list of volume ids or a single volume id of your choosing. (If you choose your own volume/s here, you will also need to modify the filepaths in the next step to point to those files)."
   ]
  },
  {
   "cell_type": "code",
   "execution_count": 2,
   "metadata": {},
   "outputs": [
    {
     "data": {
      "text/plain": [
       "['[sandbox] Welcome to the HathiTrust Research Center rsync server.',\n",
       " '',\n",
       " 'receiving file list ... done',\n",
       " 'coo/',\n",
       " 'coo/pairtree_root/',\n",
       " 'coo/pairtree_root/31/',\n",
       " 'coo/pairtree_root/31/92/',\n",
       " 'coo/pairtree_root/31/92/40/',\n",
       " 'coo/pairtree_root/31/92/40/05/',\n",
       " 'coo/pairtree_root/31/92/40/05/84/',\n",
       " 'coo/pairtree_root/31/92/40/05/84/43/',\n",
       " 'coo/pairtree_root/31/92/40/05/84/43/23/',\n",
       " 'coo/pairtree_root/31/92/40/05/84/43/23/31924005844323/',\n",
       " 'coo/pairtree_root/31/92/40/05/84/43/23/31924005844323/coo.31924005844323.json.bz2',\n",
       " 'mdp/',\n",
       " 'mdp/pairtree_root/',\n",
       " 'mdp/pairtree_root/39/',\n",
       " 'mdp/pairtree_root/39/01/',\n",
       " 'mdp/pairtree_root/39/01/50/',\n",
       " 'mdp/pairtree_root/39/01/50/18/',\n",
       " 'mdp/pairtree_root/39/01/50/18/64/',\n",
       " 'mdp/pairtree_root/39/01/50/18/64/26/',\n",
       " 'mdp/pairtree_root/39/01/50/18/64/26/71/',\n",
       " 'mdp/pairtree_root/39/01/50/18/64/26/71/39015018642671/',\n",
       " 'mdp/pairtree_root/39/01/50/18/64/26/71/39015018642671/mdp.39015018642671.json.bz2',\n",
       " 'uc1/',\n",
       " 'uc1/pairtree_root/',\n",
       " 'uc1/pairtree_root/32/',\n",
       " 'uc1/pairtree_root/32/10/',\n",
       " 'uc1/pairtree_root/32/10/60/',\n",
       " 'uc1/pairtree_root/32/10/60/00/',\n",
       " 'uc1/pairtree_root/32/10/60/00/66/',\n",
       " 'uc1/pairtree_root/32/10/60/00/66/61/',\n",
       " 'uc1/pairtree_root/32/10/60/00/66/61/20/',\n",
       " 'uc1/pairtree_root/32/10/60/00/66/61/20/32106000666120/',\n",
       " 'uc1/pairtree_root/32/10/60/00/66/61/20/32106000666120/uc1.32106000666120.json.bz2',\n",
       " 'uc1/pairtree_root/32/10/60/14/',\n",
       " 'uc1/pairtree_root/32/10/60/14/02/',\n",
       " 'uc1/pairtree_root/32/10/60/14/02/99/',\n",
       " 'uc1/pairtree_root/32/10/60/14/02/99/27/',\n",
       " 'uc1/pairtree_root/32/10/60/14/02/99/27/32106014029927/',\n",
       " 'uc1/pairtree_root/32/10/60/14/02/99/27/32106014029927/uc1.32106014029927.json.bz2',\n",
       " 'uc1/pairtree_root/b3/',\n",
       " 'uc1/pairtree_root/b3/62/',\n",
       " 'uc1/pairtree_root/b3/62/49/',\n",
       " 'uc1/pairtree_root/b3/62/49/67/',\n",
       " 'uc1/pairtree_root/b3/62/49/67/b3624967/',\n",
       " 'uc1/pairtree_root/b3/62/49/67/b3624967/uc1.b3624967.json.bz2',\n",
       " '',\n",
       " 'sent 637 bytes  received 984,479 bytes  281,461.71 bytes/sec',\n",
       " 'total size is 982,772  speedup is 1.00']"
      ]
     },
     "execution_count": 2,
     "metadata": {},
     "output_type": "execute_result"
    }
   ],
   "source": [
    "!rm -rf local-folder/\n",
    "!rm -rf local-folder/\n",
    "!rm -rf data/coo*\n",
    "!rm -rf data/mdp*\n",
    "!rm -rf data/uc1*\n",
    "download_output = !htid2rsync --f data/vol_ids_5.txt | rsync -azv --files-from=- data.sharc.hathitrust.org::features/ data/\n",
    "download_output"
   ]
  },
  {
   "cell_type": "markdown",
   "metadata": {},
   "source": [
    "### Working with Extracted Features\n",
    "All of the examples of code below are taken directly, or adapted, from the [Programming Historian tutorial](http://programminghistorian.org/lessons/text-mining-with-extracted-features) or the [FeatureReader's Readme.md file](https://github.com/htrc/htrc-feature-reader).\n",
    "\n",
    "You'll notice, from the output above, that the content for each volume is stored in a compressed JSON file, in a rather lengthy file directory. We can import and initialize FeatureReader with file paths pointing to those JSON files (using the full paths from the output above). If you chose to work with your own volumes in the previous step you can edit the cell above and re-run the cells below.\n",
    "\n",
    "First we'll get all the data filepaths from the output of our command above:"
   ]
  },
  {
   "cell_type": "code",
   "execution_count": 3,
   "metadata": {},
   "outputs": [
    {
     "data": {
      "text/plain": [
       "['data/coo/pairtree_root/31/92/40/05/84/43/23/31924005844323/coo.31924005844323.json.bz2',\n",
       " 'data/mdp/pairtree_root/39/01/50/18/64/26/71/39015018642671/mdp.39015018642671.json.bz2',\n",
       " 'data/uc1/pairtree_root/32/10/60/00/66/61/20/32106000666120/uc1.32106000666120.json.bz2',\n",
       " 'data/uc1/pairtree_root/32/10/60/14/02/99/27/32106014029927/uc1.32106014029927.json.bz2',\n",
       " 'data/uc1/pairtree_root/b3/62/49/67/b3624967/uc1.b3624967.json.bz2']"
      ]
     },
     "execution_count": 3,
     "metadata": {},
     "output_type": "execute_result"
    }
   ],
   "source": [
    "suffix = '.json.bz2'\n",
    "file_paths = ['data/' + path for path in download_output if path.endswith(suffix)]\n",
    "file_paths"
   ]
  },
  {
   "cell_type": "markdown",
   "metadata": {},
   "source": [
    "Now we'll feed these paths into the `FeatureReader` method which will create a `FeatureReader` object:"
   ]
  },
  {
   "cell_type": "code",
   "execution_count": 4,
   "metadata": {},
   "outputs": [],
   "source": [
    "fr = FeatureReader(file_paths)"
   ]
  },
  {
   "cell_type": "markdown",
   "metadata": {},
   "source": [
    "We can now cycle through properties of the `FeatureReader`:"
   ]
  },
  {
   "cell_type": "code",
   "execution_count": 5,
   "metadata": {},
   "outputs": [
    {
     "name": "stdout",
     "output_type": "stream",
     "text": [
      "coo.31924005844323 A history of the city of San Francisco and incidentally of the State of California By John S. Hittell ... ['Hittell, John S. (John Shertzer) 1825-1901 ']\n",
      "\n",
      "mdp.39015018642671 A cast of hawks : a rowdy tale of greed, violence, scandal, and corruption in the early days of San Francisco / by Milton S. Gould. ['Gould, Milton S. ']\n",
      "\n",
      "uc1.32106000666120 Early days of San Francisco, California. ['Brown, John Henry 1820-1895 ']\n",
      "\n",
      "uc1.32106014029927 Fire & gold : the San Francisco story / by Charles A. Fracchia ['Fracchia, Charles A. 1937- ']\n",
      "\n",
      "uc1.b3624967 Committee of Vigilance: revolution in San Francisco, 1851;an account of the hundred days when certain citizens undertook the suppression of the criminal activities of the Sydney ducks. ['Stewart, George Rippey 1895-1980 ']\n",
      "\n"
     ]
    }
   ],
   "source": [
    "for vol in fr.volumes():\n",
    "    print(vol.id, vol.title, vol.author)\n",
    "    print()"
   ]
  },
  {
   "cell_type": "markdown",
   "metadata": {},
   "source": [
    "Let's try to pull out some more metadata about these titles, using the [Volume object](http://htrc.github.io/htrc-feature-reader/htrc_features/feature_reader.m.html#htrc_features.feature_reader.Volume) in `FeatureReader`. We'll get the HT URL, year, and page count for each volume."
   ]
  },
  {
   "cell_type": "code",
   "execution_count": 6,
   "metadata": {},
   "outputs": [
    {
     "name": "stdout",
     "output_type": "stream",
     "text": [
      "URL: http://hdl.handle.net/2027/coo.31924005844323 Year: 1878 Page count: 526 \n",
      "URL: http://hdl.handle.net/2027/mdp.39015018642671 Year: 1985 Page count: 382 \n",
      "URL: http://hdl.handle.net/2027/uc1.32106000666120 Year: 1949 Page count: 180 \n",
      "URL: http://hdl.handle.net/2027/uc1.32106014029927 Year: 1994 Page count: 408 \n",
      "URL: http://hdl.handle.net/2027/uc1.b3624967 Year: 1964 Page count: 352 \n"
     ]
    }
   ],
   "source": [
    "for vol in fr.volumes():\n",
    "    print(\"URL: %s Year: %s Page count: %s \" % (vol.handle_url, vol.year, vol.page_count))"
   ]
  },
  {
   "cell_type": "markdown",
   "metadata": {},
   "source": [
    "The `source_institution` tells us where the volumes were scanned:"
   ]
  },
  {
   "cell_type": "code",
   "execution_count": 7,
   "metadata": {},
   "outputs": [
    {
     "name": "stdout",
     "output_type": "stream",
     "text": [
      "Source institution: COO \n",
      "Source institution: MIU \n",
      "Source institution: UC \n",
      "Source institution: UC \n",
      "Source institution: UC \n"
     ]
    }
   ],
   "source": [
    "for vol in fr.volumes():\n",
    "    print(\"Source institution: %s \" % (vol.source_institution))"
   ]
  },
  {
   "cell_type": "markdown",
   "metadata": {},
   "source": [
    "Let's take a closer look at the first volume:"
   ]
  },
  {
   "cell_type": "code",
   "execution_count": 8,
   "metadata": {},
   "outputs": [
    {
     "data": {
      "text/plain": [
       "'A history of the city of San Francisco and incidentally of the State of California By John S. Hittell ...'"
      ]
     },
     "execution_count": 8,
     "metadata": {},
     "output_type": "execute_result"
    }
   ],
   "source": [
    "vol = fr.first()\n",
    "vol.title"
   ]
  },
  {
   "cell_type": "markdown",
   "metadata": {},
   "source": [
    "The `tokens_per_page` method will give us the words in the volume:"
   ]
  },
  {
   "cell_type": "code",
   "execution_count": 9,
   "metadata": {},
   "outputs": [
    {
     "data": {
      "text/html": [
       "<div>\n",
       "<table border=\"1\" class=\"dataframe\">\n",
       "  <thead>\n",
       "    <tr style=\"text-align: right;\">\n",
       "      <th></th>\n",
       "      <th>count</th>\n",
       "    </tr>\n",
       "    <tr>\n",
       "      <th>page</th>\n",
       "      <th></th>\n",
       "    </tr>\n",
       "  </thead>\n",
       "  <tbody>\n",
       "    <tr>\n",
       "      <th>1</th>\n",
       "      <td>0</td>\n",
       "    </tr>\n",
       "    <tr>\n",
       "      <th>2</th>\n",
       "      <td>0</td>\n",
       "    </tr>\n",
       "    <tr>\n",
       "      <th>3</th>\n",
       "      <td>0</td>\n",
       "    </tr>\n",
       "    <tr>\n",
       "      <th>4</th>\n",
       "      <td>0</td>\n",
       "    </tr>\n",
       "    <tr>\n",
       "      <th>5</th>\n",
       "      <td>31</td>\n",
       "    </tr>\n",
       "  </tbody>\n",
       "</table>\n",
       "</div>"
      ],
      "text/plain": [
       "      count\n",
       "page       \n",
       "1         0\n",
       "2         0\n",
       "3         0\n",
       "4         0\n",
       "5        31"
      ]
     },
     "execution_count": 9,
     "metadata": {},
     "output_type": "execute_result"
    }
   ],
   "source": [
    "tokens = vol.tokens_per_page()\n",
    "tokens.head()"
   ]
  },
  {
   "cell_type": "markdown",
   "metadata": {},
   "source": [
    "We can easily plot the number of tokens across every page of the book"
   ]
  },
  {
   "cell_type": "code",
   "execution_count": 10,
   "metadata": {},
   "outputs": [
    {
     "data": {
      "text/plain": [
       "<matplotlib.axes._subplots.AxesSubplot at 0x7fbf53dff278>"
      ]
     },
     "execution_count": 10,
     "metadata": {},
     "output_type": "execute_result"
    },
    {
     "data": {
      "image/png": "[encoded data removed]",
      "text/plain": [
       "<matplotlib.figure.Figure at 0x7fbf55491390>"
      ]
     },
     "metadata": {},
     "output_type": "display_data"
    }
   ],
   "source": [
    "tokens.plot()"
   ]
  },
  {
   "cell_type": "markdown",
   "metadata": {},
   "source": [
    "Now let's look at some specific pages, using the [Page object in FeatureReader](http://htrc.github.io/htrc-feature-reader/htrc_features/feature_reader.m.html#htrc_features.feature_reader.Page). We'll take the first 200 pages in this volume:"
   ]
  },
  {
   "cell_type": "code",
   "execution_count": 11,
   "metadata": {},
   "outputs": [],
   "source": [
    "pages = [page for page in vol.pages()]"
   ]
  },
  {
   "cell_type": "markdown",
   "metadata": {},
   "source": [
    "Then we'll index the 200th page:"
   ]
  },
  {
   "cell_type": "code",
   "execution_count": 12,
   "metadata": {},
   "outputs": [],
   "source": [
    "page_200 = pages[199]"
   ]
  },
  {
   "cell_type": "code",
   "execution_count": 15,
   "metadata": {},
   "outputs": [
    {
     "name": "stdout",
     "output_type": "stream",
     "text": [
      "The body has 31 lines, 0 empty lines, and 12 sentences\n"
     ]
    }
   ],
   "source": [
    "print(\"The body has %s lines, %s empty lines, and %s sentences\" % (page_200.line_count(),\n",
    "                                                                   page_200.empty_line_count(),\n",
    "                                                                   page_200.sentence_count()))\n"
   ]
  },
  {
   "cell_type": "markdown",
   "metadata": {},
   "source": [
    "We can get a list of the tokens with the `tokenlist` method:"
   ]
  },
  {
   "cell_type": "code",
   "execution_count": 16,
   "metadata": {},
   "outputs": [
    {
     "data": {
      "text/html": [
       "<table border=\"1\" class=\"dataframe\">\n",
       "    <thead>\n",
       "        <tr>\n",
       "            <th>page</th> <th>section</th> <th>token</th> <th>pos</th> <th>count</th>\n",
       "        </tr>\n",
       "    </thead>\n",
       "    <tbody>\n",
       "        <tr>\n",
       "            <td>200 </td> <td>body   </td> <td>'number  </td> <td>JJ  </td> <td>1    </td>\n",
       "        </tr>\n",
       "    </tbody>\n",
       "        <tr>\n",
       "            <td>200 </td> <td>body   </td> <td>,        </td> <td>,   </td> <td>29   </td>\n",
       "        </tr>\n",
       "    </tbody>\n",
       "        <tr>\n",
       "            <td>200 </td> <td>body   </td> <td>-—the    </td> <td>DT  </td> <td>1    </td>\n",
       "        </tr>\n",
       "    </tbody>\n",
       "        <tr>\n",
       "            <td>200 </td> <td>body   </td> <td>.        </td> <td>.   </td> <td>11   </td>\n",
       "        </tr>\n",
       "    </tbody>\n",
       "        <tr>\n",
       "            <td>200 </td> <td>body   </td> <td>18.33    </td> <td>CD  </td> <td>1    </td>\n",
       "        </tr>\n",
       "    </tbody>\n",
       "        <tr>\n",
       "            <td>200 </td> <td>body   </td> <td>1852     </td> <td>CD  </td> <td>3    </td>\n",
       "        </tr>\n",
       "    </tbody>\n",
       "        <tr>\n",
       "            <td>200 </td> <td>body   </td> <td>90       </td> <td>CD  </td> <td>1    </td>\n",
       "        </tr>\n",
       "    </tbody>\n",
       "        <tr>\n",
       "            <td>200 </td> <td>body   </td> <td>;        </td> <td>:   </td> <td>1    </td>\n",
       "        </tr>\n",
       "    </tbody>\n",
       "        <tr>\n",
       "            <td>200 </td> <td>body   </td> <td>According</td> <td>VBG </td> <td>1    </td>\n",
       "        </tr>\n",
       "    </tbody>\n",
       "        <tr>\n",
       "            <td>200 </td> <td>body   </td> <td>Alvarado </td> <td>NNP </td> <td>1    </td>\n",
       "        </tr>\n",
       "    </tbody>\n",
       "</table>\n",
       "<p>... (153 rows omitted)</p"
      ],
      "text/plain": [
       "page | section | token     | pos  | count\n",
       "200  | body    | 'number   | JJ   | 1\n",
       "200  | body    | ,         | ,    | 29\n",
       "200  | body    | -—the     | DT   | 1\n",
       "200  | body    | .         | .    | 11\n",
       "200  | body    | 18.33     | CD   | 1\n",
       "200  | body    | 1852      | CD   | 3\n",
       "200  | body    | 90        | CD   | 1\n",
       "200  | body    | ;         | :    | 1\n",
       "200  | body    | According | VBG  | 1\n",
       "200  | body    | Alvarado  | NNP  | 1\n",
       "... (153 rows omitted)"
      ]
     },
     "execution_count": 16,
     "metadata": {},
     "output_type": "execute_result"
    }
   ],
   "source": [
    "Table.from_df(page_200.tokenlist().reset_index())"
   ]
  },
  {
   "cell_type": "markdown",
   "metadata": {},
   "source": [
    "We can do this for every page and get a huge table!"
   ]
  },
  {
   "cell_type": "code",
   "execution_count": 17,
   "metadata": {},
   "outputs": [
    {
     "data": {
      "text/html": [
       "<table border=\"1\" class=\"dataframe\">\n",
       "    <thead>\n",
       "        <tr>\n",
       "            <th>count</th> <th>index</th> <th>page</th> <th>pos</th> <th>section</th> <th>token</th>\n",
       "        </tr>\n",
       "    </thead>\n",
       "    <tbody>\n",
       "        <tr>\n",
       "            <td>1    </td> <td>nan  </td> <td>5   </td> <td>''  </td> <td>body   </td> <td>\"    </td>\n",
       "        </tr>\n",
       "    </tbody>\n",
       "        <tr>\n",
       "            <td>1    </td> <td>nan  </td> <td>5   </td> <td>``  </td> <td>body   </td> <td>\"    </td>\n",
       "        </tr>\n",
       "    </tbody>\n",
       "        <tr>\n",
       "            <td>2    </td> <td>nan  </td> <td>5   </td> <td>''  </td> <td>body   </td> <td>'    </td>\n",
       "        </tr>\n",
       "    </tbody>\n",
       "        <tr>\n",
       "            <td>5    </td> <td>nan  </td> <td>5   </td> <td>POS </td> <td>body   </td> <td>'    </td>\n",
       "        </tr>\n",
       "    </tbody>\n",
       "        <tr>\n",
       "            <td>1    </td> <td>nan  </td> <td>5   </td> <td>''  </td> <td>body   </td> <td>'u.1\"</td>\n",
       "        </tr>\n",
       "    </tbody>\n",
       "        <tr>\n",
       "            <td>2    </td> <td>nan  </td> <td>5   </td> <td>:   </td> <td>body   </td> <td>-    </td>\n",
       "        </tr>\n",
       "    </tbody>\n",
       "        <tr>\n",
       "            <td>3    </td> <td>nan  </td> <td>5   </td> <td>.   </td> <td>body   </td> <td>.    </td>\n",
       "        </tr>\n",
       "    </tbody>\n",
       "        <tr>\n",
       "            <td>1    </td> <td>nan  </td> <td>5   </td> <td>NN  </td> <td>body   </td> <td>.‘|  </td>\n",
       "        </tr>\n",
       "    </tbody>\n",
       "        <tr>\n",
       "            <td>1    </td> <td>nan  </td> <td>5   </td> <td>NN  </td> <td>body   </td> <td>.’   </td>\n",
       "        </tr>\n",
       "    </tbody>\n",
       "        <tr>\n",
       "            <td>1    </td> <td>nan  </td> <td>5   </td> <td>CD  </td> <td>body   </td> <td>0    </td>\n",
       "        </tr>\n",
       "    </tbody>\n",
       "</table>\n",
       "<p>... (90581 rows omitted)</p"
      ],
      "text/plain": [
       "<IPython.core.display.HTML object>"
      ]
     },
     "metadata": {},
     "output_type": "display_data"
    }
   ],
   "source": [
    "all_pages_meta = Table.from_df(pd.concat([p.tokenlist().reset_index() for p in pages]))\n",
    "all_pages_meta.show(10)"
   ]
  },
  {
   "cell_type": "markdown",
   "metadata": {},
   "source": [
    "# Challenge\n",
    "\n",
    "Play around with this table and see what you can learn about the book:"
   ]
  },
  {
   "cell_type": "code",
   "execution_count": null,
   "metadata": {},
   "outputs": [],
   "source": []
  },
  {
   "cell_type": "markdown",
   "metadata": {},
   "source": [
    "Try typing `vol.` and then tab to see everything that's provided in the volume object:"
   ]
  },
  {
   "cell_type": "code",
   "execution_count": null,
   "metadata": {},
   "outputs": [],
   "source": [
    "vol."
   ]
  }
 ],
 "metadata": {
  "anaconda-cloud": {},
  "kernelspec": {
   "display_name": "Python 3",
   "language": "python",
   "name": "python3"
  },
  "language_info": {
   "codemirror_mode": {
    "name": "ipython",
    "version": 3
   },
   "file_extension": ".py",
   "mimetype": "text/x-python",
   "name": "python",
   "nbconvert_exporter": "python",
   "pygments_lexer": "ipython3",
   "version": "3.6.1"
  }
 },
 "nbformat": 4,
 "nbformat_minor": 1
}
