{
 "cells": [
  {
   "cell_type": "code",
   "execution_count": 5,
   "metadata": {},
   "outputs": [],
   "source": [
    "import matplotlib.pyplot as plt\n",
    "%matplotlib inline\n",
    "plt.style.use('ggplot')\n",
    "from datascience import *\n",
    "import numpy as np\n",
    "from scipy.spatial.distance import cosine\n",
    "import gensim #topic modeling and word embedding \n",
    "import nltk\n",
    "from string import punctuation"
   ]
  },
  {
   "cell_type": "markdown",
   "metadata": {},
   "source": [
    "# Word Embedding\n",
    "\n",
    "This lesson is designed to explore features of word embeddings described by Ben Schmidt in his blog post <a href=\"http://bookworm.benschmidt.org/posts/2015-10-30-rejecting-the-gender-binary.html\">\"Rejecting the Gender Binary\"</a>.\n",
    "\n",
    "The primary corpus we use consists of the <a href=\"http://txtlab.org/?p=601\">150 English-language novels</a> made available by the .txtLab at McGill. We also look at a <a href=\"http://ryanheuser.org/word-vectors-1/\">Word2Vec model trained on the ECCO-TCP corpus</a> of 2,350 eighteenth-century literary texts made available by Ryan Heuser. (I have shortened the number of terms in the model by half in order to conserve memory.)\n",
    "\n",
    "For background on Word2Vec's mechanics, I suggest this <a href=\"https://www.tensorflow.org/versions/r0.8/tutorials/word2vec/index.html\">brief tutorial</a> by Google, especially the sections \"Motivation,\" \"Skip-Gram Model,\" and \"Visualizing.\"\n",
    "\n",
    "We'll read in Andrew Piper's corpus we used in our Topic Modeling notebook:"
   ]
  },
  {
   "cell_type": "code",
   "execution_count": 6,
   "metadata": {},
   "outputs": [],
   "source": [
    "metadata_tb = Table.read_table('../09-Topic-Modeling/data/txtlab_Novel150_English.csv')\n",
    "\n",
    "fiction_path = '../09-Topic-Modeling/data/txtlab_Novel150_English/'\n",
    "\n",
    "novel_list = []\n",
    "\n",
    "# Iterate through filenames in metadata table\n",
    "for filename in metadata_tb['filename']:\n",
    "    \n",
    "    # Read in novel text as single string, make lowercase\n",
    "    with open(fiction_path + filename, 'r') as file_in:\n",
    "        novel = file_in.read()\n",
    "    \n",
    "    # Add novel text as single string to master list\n",
    "    novel_list.append(novel)"
   ]
  },
  {
   "cell_type": "markdown",
   "metadata": {},
   "source": [
    "---\n",
    "\n",
    "# Pre-Processing\n",
    "\n",
    "Word2Vec learns about the relationships among words by observing them in context. We'll need to tokenize the words in our corpus while retaining sentence boundaries. Since novels were imported as single strings, we'll first use <i>sent_tokenize</i> to divide them into sentences, and second, we'll split each sentence into its own list of words.\n",
    "\n",
    "We'll use `nltk`'s sentence tokenizer:"
   ]
  },
  {
   "cell_type": "code",
   "execution_count": 7,
   "metadata": {},
   "outputs": [],
   "source": [
    "from nltk.tokenize import sent_tokenize"
   ]
  },
  {
   "cell_type": "markdown",
   "metadata": {},
   "source": [
    "Due to memory and time constraints we'll use our quick and dirty tokenizer:"
   ]
  },
  {
   "cell_type": "code",
   "execution_count": 8,
   "metadata": {},
   "outputs": [],
   "source": [
    "def fast_tokenize(text):\n",
    "    \n",
    "    # Iterate through text removing punctuation characters\n",
    "    no_punct = \"\".join([char for char in text if char not in punctuation])\n",
    "    \n",
    "    # Split text over whitespace into list of words\n",
    "    tokens = no_punct.split()\n",
    "    \n",
    "    return tokens"
   ]
  },
  {
   "cell_type": "markdown",
   "metadata": {},
   "source": [
    "First get the sentences:"
   ]
  },
  {
   "cell_type": "code",
   "execution_count": 9,
   "metadata": {},
   "outputs": [],
   "source": [
    "sentences = [sentence for novel in novel_list for sentence in sent_tokenize(novel)]"
   ]
  },
  {
   "cell_type": "markdown",
   "metadata": {},
   "source": [
    "Now the words:"
   ]
  },
  {
   "cell_type": "code",
   "execution_count": 10,
   "metadata": {},
   "outputs": [],
   "source": [
    "words_by_sentence = [fast_tokenize(sentence.lower()) for sentence in sentences]"
   ]
  },
  {
   "cell_type": "markdown",
   "metadata": {},
   "source": [
    "We'll double check that we don't have any empty sentences:"
   ]
  },
  {
   "cell_type": "code",
   "execution_count": 11,
   "metadata": {},
   "outputs": [],
   "source": [
    "words_by_sentence = [sentence for sentence in words_by_sentence if sentence != []]"
   ]
  },
  {
   "cell_type": "markdown",
   "metadata": {},
   "source": [
    "We should now have a `list` of `list`s with sentences and words:"
   ]
  },
  {
   "cell_type": "code",
   "execution_count": 12,
   "metadata": {},
   "outputs": [
    {
     "data": {
      "text/plain": [
       "[['author’s',\n",
       "  'introduction',\n",
       "  'my',\n",
       "  'dog',\n",
       "  'had',\n",
       "  'made',\n",
       "  'a',\n",
       "  'point',\n",
       "  'on',\n",
       "  'a',\n",
       "  'piece',\n",
       "  'of',\n",
       "  'fallowground',\n",
       "  'and',\n",
       "  'led',\n",
       "  'the',\n",
       "  'curate',\n",
       "  'and',\n",
       "  'me',\n",
       "  'two',\n",
       "  'or',\n",
       "  'three',\n",
       "  'hundred',\n",
       "  'yards',\n",
       "  'over',\n",
       "  'that',\n",
       "  'and',\n",
       "  'some',\n",
       "  'stubble',\n",
       "  'adjoining',\n",
       "  'in',\n",
       "  'a',\n",
       "  'breathless',\n",
       "  'state',\n",
       "  'of',\n",
       "  'expectation',\n",
       "  'on',\n",
       "  'a',\n",
       "  'burning',\n",
       "  'first',\n",
       "  'of',\n",
       "  'september'],\n",
       " ['it',\n",
       "  'was',\n",
       "  'a',\n",
       "  'false',\n",
       "  'point',\n",
       "  'and',\n",
       "  'our',\n",
       "  'labour',\n",
       "  'was',\n",
       "  'vain',\n",
       "  'yet',\n",
       "  'to',\n",
       "  'do',\n",
       "  'rover',\n",
       "  'justice',\n",
       "  'for',\n",
       "  'he’s',\n",
       "  'an',\n",
       "  'excellent',\n",
       "  'dog',\n",
       "  'though',\n",
       "  'i',\n",
       "  'have',\n",
       "  'lost',\n",
       "  'his',\n",
       "  'pedigree',\n",
       "  'the',\n",
       "  'fault',\n",
       "  'was',\n",
       "  'none',\n",
       "  'of',\n",
       "  'his',\n",
       "  'the',\n",
       "  'birds',\n",
       "  'were',\n",
       "  'gone',\n",
       "  'the',\n",
       "  'curate',\n",
       "  'showed',\n",
       "  'me',\n",
       "  'the',\n",
       "  'spot',\n",
       "  'where',\n",
       "  'they',\n",
       "  'had',\n",
       "  'lain',\n",
       "  'basking',\n",
       "  'at',\n",
       "  'the',\n",
       "  'root',\n",
       "  'of',\n",
       "  'an',\n",
       "  'old',\n",
       "  'hedge']]"
      ]
     },
     "execution_count": 12,
     "metadata": {},
     "output_type": "execute_result"
    }
   ],
   "source": [
    "words_by_sentence[:2]"
   ]
  },
  {
   "cell_type": "markdown",
   "metadata": {
    "collapsed": true
   },
   "source": [
    "---\n",
    "\n",
    "# Word2Vec\n",
    "\n",
    "### Word Embeddings\n",
    "Word2Vec is the most prominent word embedding algorithm. Word embedding generally attempts to identify semantic relationships between words by observing them in context.\n",
    "\n",
    "Imagine that each word in a novel has its meaning determined by the ones that surround it in a limited window. For example, in Moby Dick's first sentence, “me” is paired on either side by “Call” and “Ishmael.” After observing the windows around every word in the novel (or many novels), the computer will notice a pattern in which “me” falls between similar pairs of words to “her,” “him,” or “them.” Of course, the computer had gone through a similar process over the words “Call” and “Ishmael,” for which “me” is reciprocally part of their contexts.  This chaining of signifiers to one another mirrors some of humanists' most sophisticated interpretative frameworks of language.\n",
    "\n",
    "The two main flavors of Word2Vec are CBOW (Continuous Bag of Words) and Skip-Gram, which can be distinguished partly by their input and output during training. Skip-Gram takes a word of interest as its input (e.g. \"me\") and tries to learn how to predict its context words (\"Call\",\"Ishmael\"). CBOW does the opposite, taking the context words (\"Call\",\"Ishmael\") as a single input and tries to predict the word of interest (\"me\").\n",
    "\n",
    "In general, CBOW is is faster and does well with frequent words, while Skip-Gram potentially represents rare words better.\n",
    "\n",
    "### Word2Vec Features\n",
    "<ul>\n",
    "<li>`size`: Number of dimensions for word embedding model</li>\n",
    "<li>`window`: Number of context words to observe in each direction</li>\n",
    "<li>`min_count`: Minimum frequency for words included in model</li>\n",
    "<li>`sg` (Skip-Gram): '0' indicates CBOW model; '1' indicates Skip-Gram</li>\n",
    "<li>`alpha`: Learning rate (initial); prevents model from over-correcting, enables finer tuning</li>\n",
    "<li>`iterations`: Number of passes through dataset</li>\n",
    "<li>`batch_words`: Number of words to sample from data during each pass</li>\n",
    "</ul>\n",
    "\n",
    "Note: cell below uses default value for each argument"
   ]
  },
  {
   "cell_type": "markdown",
   "metadata": {},
   "source": [
    "## Training\n",
    "\n",
    "We've gotten accustomed to training powerful models in Python with one line of code, why stop now?"
   ]
  },
  {
   "cell_type": "code",
   "execution_count": 13,
   "metadata": {},
   "outputs": [],
   "source": [
    "model = gensim.models.Word2Vec(words_by_sentence, size=100, window=5, \\\n",
    "                               min_count=5, sg=0, alpha=0.025, iter=5, batch_words=10000)"
   ]
  },
  {
   "cell_type": "markdown",
   "metadata": {},
   "source": [
    "## Embeddings\n",
    "\n",
    "We can return the actual high-dimensional vector by simply indexing the model with the word as the key:"
   ]
  },
  {
   "cell_type": "code",
   "execution_count": 14,
   "metadata": {},
   "outputs": [
    {
     "data": {
      "text/plain": [
       "array([ -1.79214776e+00,  -2.41471738e-01,   2.10318685e-01,\n",
       "        -4.52885717e-01,  -1.15805656e-01,   1.77337539e+00,\n",
       "        -3.03150535e+00,   4.28103864e-01,  -1.52845716e+00,\n",
       "         1.25889230e+00,  -1.51829875e+00,  -8.95684481e-01,\n",
       "        -1.38302457e+00,   3.33670706e-01,  -4.37399060e-01,\n",
       "        -1.34843898e+00,   8.73876870e-01,  -9.74969193e-02,\n",
       "         2.29718900e+00,  -2.58782125e+00,  -4.88136917e-01,\n",
       "         1.49237227e+00,   7.45508850e-01,   7.57842898e-01,\n",
       "        -5.57166748e-02,  -1.42830920e+00,   7.36897826e-01,\n",
       "         5.57274640e-01,  -9.04805243e-01,  -2.53760368e-01,\n",
       "         4.03131902e-01,  -1.28032565e-02,   6.95199192e-01,\n",
       "         6.18007779e-01,   2.03834221e-01,   2.98530400e-01,\n",
       "        -8.06178600e-02,   1.02990258e+00,   1.40192699e+00,\n",
       "         7.95101166e-01,   2.92038381e-01,   3.57670814e-01,\n",
       "         8.22397113e-01,  -2.90182158e-02,   2.49368429e-01,\n",
       "         2.93059087e+00,  -5.74906528e-01,  -1.11725628e+00,\n",
       "        -1.31183147e-01,   7.61994123e-01,  -1.16093886e+00,\n",
       "        -1.13329664e-01,  -2.27117586e+00,  -3.45320195e-01,\n",
       "        -1.11903679e+00,  -1.85516262e+00,   1.72091484e+00,\n",
       "         2.48345494e+00,  -3.61003280e-01,  -4.94982302e-01,\n",
       "         2.01652122e+00,  -2.22302275e-04,  -1.84959039e-01,\n",
       "        -6.07365251e-01,  -1.55811757e-01,  -2.04358593e-01,\n",
       "         3.56642336e-01,   5.17359972e-01,   3.88444394e-01,\n",
       "        -1.86277437e+00,   8.77289593e-01,  -5.15076339e-01,\n",
       "         2.34937221e-01,  -3.50737512e-01,   5.76453984e-01,\n",
       "         6.21075928e-01,  -6.25162601e-01,  -5.32460034e-01,\n",
       "         5.09381771e-01,   5.32495916e-01,   1.22455525e+00,\n",
       "        -2.83920765e+00,   1.14689425e-01,  -5.47174752e-01,\n",
       "         8.78597438e-01,  -1.46585554e-01,   8.84787813e-02,\n",
       "         1.35035098e+00,  -7.40741789e-01,  -4.16433394e-01,\n",
       "         1.91070139e-01,  -1.27618384e+00,  -2.27500296e+00,\n",
       "        -1.85856831e+00,  -2.07723171e-01,   1.27950025e+00,\n",
       "         2.77162004e+00,  -3.28830481e-01,  -8.32697511e-01,\n",
       "        -5.21681011e-01], dtype=float32)"
      ]
     },
     "execution_count": 14,
     "metadata": {},
     "output_type": "execute_result"
    }
   ],
   "source": [
    "model['whale']"
   ]
  },
  {
   "cell_type": "markdown",
   "metadata": {},
   "source": [
    "`gensim` comes with some handy methods to analyze word relationships. `similarity` will give us a number from 0-1 based on how similar two words are. If this sounds like cosine similarity for words, you'd be right! It just takes the cosine similarity of these high dimensional vectors:"
   ]
  },
  {
   "cell_type": "code",
   "execution_count": 15,
   "metadata": {},
   "outputs": [
    {
     "data": {
      "text/plain": [
       "0.66902326306375404"
      ]
     },
     "execution_count": 15,
     "metadata": {},
     "output_type": "execute_result"
    }
   ],
   "source": [
    "model.similarity('sense','sensibility')"
   ]
  },
  {
   "cell_type": "markdown",
   "metadata": {},
   "source": [
    "We can also find cosine distance between two clusters of word vectors. Each cluster is measured as the mean of its words:"
   ]
  },
  {
   "cell_type": "code",
   "execution_count": 16,
   "metadata": {},
   "outputs": [
    {
     "data": {
      "text/plain": [
       "0.13130881423451232"
      ]
     },
     "execution_count": 16,
     "metadata": {},
     "output_type": "execute_result"
    }
   ],
   "source": [
    "model.n_similarity(['sense','sensibility'],['whale','harpoon'])"
   ]
  },
  {
   "cell_type": "markdown",
   "metadata": {},
   "source": [
    "We can find words that don't belong with `doesnt_match`. It finds the mean vector of the words in the `list`, and identifies the furthest away:"
   ]
  },
  {
   "cell_type": "code",
   "execution_count": 17,
   "metadata": {},
   "outputs": [
    {
     "data": {
      "text/plain": [
       "'harpoon'"
      ]
     },
     "execution_count": 17,
     "metadata": {},
     "output_type": "execute_result"
    }
   ],
   "source": [
    "model.doesnt_match(['pride','prejudice', 'harpoon'])"
   ]
  },
  {
   "cell_type": "markdown",
   "metadata": {},
   "source": [
    "The most famous implementation of this vector math is semantics. What happens if we take:\n",
    "\n",
    "$$King - Man + Woman = $$"
   ]
  },
  {
   "cell_type": "code",
   "execution_count": 18,
   "metadata": {},
   "outputs": [
    {
     "data": {
      "text/plain": [
       "[('princess', 0.7520204782485962),\n",
       " ('queen', 0.7295618057250977),\n",
       " ('duke', 0.7267670631408691),\n",
       " ('saint', 0.6838366985321045),\n",
       " ('duchess', 0.6415068507194519),\n",
       " ('earl', 0.6384197473526001),\n",
       " ('chevalier', 0.6375558376312256),\n",
       " ('emperor', 0.6357474327087402),\n",
       " ('abbot', 0.6285681128501892),\n",
       " ('marquis', 0.6245969533920288)]"
      ]
     },
     "execution_count": 18,
     "metadata": {},
     "output_type": "execute_result"
    }
   ],
   "source": [
    "model.most_similar(positive=['woman', 'king'], negative=['man'])"
   ]
  },
  {
   "cell_type": "markdown",
   "metadata": {},
   "source": [
    "Schmidt looked at words associated with male and female pronouns to investigate gender. Let's try take all the female pronouns and subtracting the male pronouns:"
   ]
  },
  {
   "cell_type": "code",
   "execution_count": 19,
   "metadata": {},
   "outputs": [
    {
     "data": {
      "text/plain": [
       "[('lovely', 0.5188531279563904),\n",
       " ('girlish', 0.4782034754753113),\n",
       " ('beautiful', 0.4728282392024994),\n",
       " ('maiden', 0.45408549904823303),\n",
       " ('sweet', 0.44941699504852295),\n",
       " ('beauty', 0.43647971749305725),\n",
       " ('miss', 0.42681968212127686),\n",
       " ('innocent', 0.40955257415771484),\n",
       " ('roses', 0.40506401658058167),\n",
       " ('loveliness', 0.402911901473999)]"
      ]
     },
     "execution_count": 19,
     "metadata": {},
     "output_type": "execute_result"
    }
   ],
   "source": [
    "model.most_similar(positive=['she','her','hers','herself'], negative=['he','him','his','himself'])"
   ]
  },
  {
   "cell_type": "markdown",
   "metadata": {},
   "source": [
    "And the opposite:"
   ]
  },
  {
   "cell_type": "code",
   "execution_count": 20,
   "metadata": {},
   "outputs": [
    {
     "data": {
      "text/plain": [
       "[('realestate', 0.4544639587402344),\n",
       " ('bill', 0.44785791635513306),\n",
       " ('clerk', 0.44316989183425903),\n",
       " ('commissioner', 0.4394550323486328),\n",
       " ('horse', 0.43853244185447693),\n",
       " ('captain', 0.42837703227996826),\n",
       " ('steward', 0.4281284511089325),\n",
       " ('mate', 0.4182766079902649),\n",
       " ('moby', 0.41797536611557007),\n",
       " ('buck', 0.4112522006034851)]"
      ]
     },
     "execution_count": 20,
     "metadata": {},
     "output_type": "execute_result"
    }
   ],
   "source": [
    "model.most_similar(positive=['he','him','his','himself'], negative=['she','her','hers','herself'])"
   ]
  },
  {
   "cell_type": "markdown",
   "metadata": {},
   "source": [
    "How about together (*genderless* in Schmidt's sense)?"
   ]
  },
  {
   "cell_type": "code",
   "execution_count": 21,
   "metadata": {
    "scrolled": true
   },
   "outputs": [
    {
     "data": {
      "text/plain": [
       "[('eugenia', 0.6237800121307373),\n",
       " ('itself', 0.6033990383148193),\n",
       " ('edgar', 0.5948238372802734),\n",
       " ('them', 0.5922368764877319),\n",
       " ('adeline', 0.5694077610969543),\n",
       " ('margaret', 0.5664571523666382),\n",
       " ('aileen', 0.5589945316314697),\n",
       " ('it', 0.5569705963134766),\n",
       " ('indiana', 0.5556083917617798),\n",
       " ('eleanor', 0.5517871379852295),\n",
       " ('carrie', 0.5502529740333557),\n",
       " ('camilla', 0.5474895238876343),\n",
       " ('constraint', 0.5338672995567322),\n",
       " ('illtemper', 0.5330542325973511),\n",
       " ('valancourt', 0.5275212526321411),\n",
       " ('maggie', 0.5274403691291809),\n",
       " ('leonora', 0.5271130800247192),\n",
       " ('isabel', 0.5262618064880371),\n",
       " ('amy', 0.5253405570983887),\n",
       " ('antonia', 0.5240936279296875),\n",
       " ('rhoda', 0.522874116897583),\n",
       " ('catherine', 0.5203244090080261),\n",
       " ('pericles', 0.5196587443351746),\n",
       " ('algernon', 0.515427827835083),\n",
       " ('her—she', 0.5124632120132446),\n",
       " ('belinda', 0.5121718049049377),\n",
       " ('aspasia', 0.5103188157081604),\n",
       " ('me', 0.5080291032791138),\n",
       " ('rebecca', 0.5079909563064575),\n",
       " ('erica', 0.5073215961456299),\n",
       " ('magua', 0.5051593780517578),\n",
       " ('elvira', 0.5024688243865967),\n",
       " ('cecilia', 0.5018260478973389),\n",
       " ('marianne', 0.5007950067520142),\n",
       " ('bathsheba', 0.4986753463745117),\n",
       " ('elinor', 0.49726107716560364),\n",
       " ('clermont', 0.49656942486763),\n",
       " ('cora', 0.4958551526069641),\n",
       " ('heyward', 0.49286434054374695),\n",
       " ('baldassarre', 0.48834019899368286),\n",
       " ('edward', 0.4877244532108307),\n",
       " ('kim', 0.4872116446495056),\n",
       " ('savonarola', 0.4842531085014343),\n",
       " ('agatha', 0.4838169813156128),\n",
       " ('emily', 0.4833762049674988),\n",
       " ('myself', 0.48275625705718994),\n",
       " ('jo', 0.48160725831985474),\n",
       " ('elizabeth', 0.4805348813533783),\n",
       " ('pansy', 0.47902804613113403),\n",
       " ('lily', 0.47331690788269043)]"
      ]
     },
     "execution_count": 21,
     "metadata": {},
     "output_type": "execute_result"
    }
   ],
   "source": [
    "model.most_similar(positive=['she','her','hers','herself','he','him','his','himself'], topn=50)"
   ]
  },
  {
   "cell_type": "markdown",
   "metadata": {},
   "source": [
    "---\n",
    "\n",
    "# Homework\n",
    "\n",
    "Use the `most_similar` method to find the tokens nearest to 'car' in our model. Do the same for 'motorcar'."
   ]
  },
  {
   "cell_type": "code",
   "execution_count": 43,
   "metadata": {},
   "outputs": [
    {
     "data": {
      "text/plain": [
       "[('wagon', 0.8371553421020508),\n",
       " ('coach', 0.8251215815544128),\n",
       " ('cart', 0.8169521689414978),\n",
       " ('cab', 0.8096737861633301),\n",
       " ('chaise', 0.8008595108985901),\n",
       " ('buggy', 0.7993342280387878),\n",
       " ('sled', 0.7952866554260254),\n",
       " ('team', 0.7943257689476013),\n",
       " ('boat', 0.7840741872787476),\n",
       " ('vehicle', 0.7702536582946777),\n",
       " ('ladder', 0.7662621736526489),\n",
       " ('hansom', 0.7630524039268494),\n",
       " ('steamer', 0.7622679471969604),\n",
       " ('waggon', 0.7544130682945251),\n",
       " ('barn', 0.7534997463226318),\n",
       " ('carriage', 0.7529597878456116),\n",
       " ('stable', 0.7521263360977173),\n",
       " ('courtyard', 0.7452982664108276),\n",
       " ('dogcart', 0.7430658936500549),\n",
       " ('gig', 0.7415716648101807),\n",
       " ('canoe', 0.7367882132530212),\n",
       " ('skiff', 0.7335672378540039),\n",
       " ('yard', 0.7324950695037842),\n",
       " ('fence', 0.7304226756095886),\n",
       " ('barracks', 0.727343738079071),\n",
       " ('sleigh', 0.725430965423584),\n",
       " ('tent', 0.7249712347984314),\n",
       " ('stables', 0.7227667570114136),\n",
       " ('chariot', 0.7225255966186523),\n",
       " ('gate', 0.7216490507125854),\n",
       " ('rear', 0.7207760214805603),\n",
       " ('motor', 0.7184325456619263),\n",
       " ('plank', 0.7179383635520935),\n",
       " ('quay', 0.7153569459915161),\n",
       " ('drawbridge', 0.7128324508666992),\n",
       " ('hut', 0.7127638459205627),\n",
       " ('bridge', 0.7098026275634766),\n",
       " ('train', 0.7091794013977051),\n",
       " ('pavilion', 0.7068910598754883),\n",
       " ('veranda', 0.7050479054450989),\n",
       " ('stair', 0.7010242938995361),\n",
       " ('landingplace', 0.7001914381980896),\n",
       " ('porch', 0.6986585855484009),\n",
       " ('cars', 0.6985875964164734),\n",
       " ('paddock', 0.6981713771820068),\n",
       " ('publichouse', 0.6980202794075012),\n",
       " ('stile', 0.6971719264984131),\n",
       " ('hedge', 0.6932271122932434),\n",
       " ('staircase', 0.6929893493652344),\n",
       " ('wicket', 0.6928659677505493)]"
      ]
     },
     "execution_count": 43,
     "metadata": {},
     "output_type": "execute_result"
    }
   ],
   "source": [
    "# only do this\n",
    "model.most_similar(positive=['car'], topn=50)"
   ]
  },
  {
   "cell_type": "code",
   "execution_count": 44,
   "metadata": {},
   "outputs": [
    {
     "data": {
      "text/plain": [
       "[('dab', 0.7267305850982666),\n",
       " ('cockleshell', 0.7088605165481567),\n",
       " ('knothole', 0.7072004079818726),\n",
       " ('parao', 0.7060015201568604),\n",
       " ('haystack', 0.7047387957572937),\n",
       " ('locomotive', 0.7033783197402954),\n",
       " ('threemasted', 0.7019756436347961),\n",
       " ('limekiln', 0.7000597715377808),\n",
       " ('tassel', 0.7000576853752136),\n",
       " ('chunk', 0.7000094056129456),\n",
       " ('syllabub', 0.6997818946838379),\n",
       " ('roosted', 0.6963580846786499),\n",
       " ('particoloured', 0.6947195529937744),\n",
       " ('gorget', 0.6934241652488708),\n",
       " ('sark', 0.692436695098877),\n",
       " ('pilothouse', 0.6904045939445496),\n",
       " ('haircut', 0.6889897584915161),\n",
       " ('deathtrap', 0.6876357793807983),\n",
       " ('hostel', 0.6872018575668335),\n",
       " ('cowboy', 0.6815052628517151),\n",
       " ('truss', 0.6809514760971069),\n",
       " ('noodle', 0.6796009540557861),\n",
       " ('smallclothes', 0.6793582439422607),\n",
       " ('locker', 0.6788920164108276),\n",
       " ('cyclops', 0.6788015365600586),\n",
       " ('connemara', 0.6785188913345337),\n",
       " ('batteringram', 0.6783176064491272),\n",
       " ('bug', 0.6780466437339783),\n",
       " ('papyrus', 0.6777780055999756),\n",
       " ('millpond', 0.6770343780517578),\n",
       " ('inverness', 0.6769586801528931),\n",
       " ('watercress', 0.6756566762924194),\n",
       " ('liberating', 0.6749662160873413),\n",
       " ('teviot', 0.6735652685165405),\n",
       " ('rasp', 0.6728284955024719),\n",
       " ('lu', 0.6727756261825562),\n",
       " ('briber', 0.6715078353881836),\n",
       " ('iowa', 0.6710463762283325),\n",
       " ('gaspipe', 0.6697821021080017),\n",
       " ('teaparty', 0.6695765256881714),\n",
       " ('tiara', 0.6691659092903137),\n",
       " ('hockheimer', 0.6691389083862305),\n",
       " ('nova', 0.6689913272857666),\n",
       " ('heid', 0.6686832904815674),\n",
       " ('loin', 0.6686437129974365),\n",
       " ('negligée', 0.6684893369674683),\n",
       " ('gullet', 0.6682888269424438),\n",
       " ('eggshells', 0.667972207069397),\n",
       " ('bowstrings', 0.667921245098114),\n",
       " ('beggingbowl', 0.6678862571716309)]"
      ]
     },
     "execution_count": 44,
     "metadata": {},
     "output_type": "execute_result"
    }
   ],
   "source": [
    "model.most_similar(positive=['motorcar'], topn=50)"
   ]
  },
  {
   "cell_type": "markdown",
   "metadata": {},
   "source": [
    "What characterizes each word in our corpus? Does this make sense?"
   ]
  },
  {
   "cell_type": "code",
   "execution_count": null,
   "metadata": {},
   "outputs": [],
   "source": []
  },
  {
   "cell_type": "markdown",
   "metadata": {
    "collapsed": true
   },
   "source": [
    "Vector addition and subtraction can be thought of in terms of analogy. From the example above: 'man' is to 'king' as 'woman' is to '???'. Use the `most_similar` method to find: 'paris' is to 'france' as 'london' is to '???'"
   ]
  },
  {
   "cell_type": "code",
   "execution_count": null,
   "metadata": {},
   "outputs": [],
   "source": []
  },
  {
   "cell_type": "markdown",
   "metadata": {
    "collapsed": true
   },
   "source": [
    "What has our model learned about nation-states?"
   ]
  },
  {
   "cell_type": "code",
   "execution_count": null,
   "metadata": {},
   "outputs": [],
   "source": []
  },
  {
   "cell_type": "markdown",
   "metadata": {
    "collapsed": true
   },
   "source": [
    "Perform the canonic Word2Vec addition again but leave out a term. Try 'king' - 'man', 'woman' - 'man', 'woman' + 'king'."
   ]
  },
  {
   "cell_type": "code",
   "execution_count": null,
   "metadata": {},
   "outputs": [],
   "source": []
  },
  {
   "cell_type": "markdown",
   "metadata": {
    "collapsed": true
   },
   "source": [
    "What do these indicate semantically?"
   ]
  },
  {
   "cell_type": "code",
   "execution_count": null,
   "metadata": {},
   "outputs": [],
   "source": []
  },
  {
   "cell_type": "markdown",
   "metadata": {},
   "source": [
    "---\n",
    "\n",
    "## Visualization\n",
    "\n",
    "We can use multi-dimensional scaling to visualize this space just like we did with the documents before. But there are a lot of words here, so let's limit it to 50 words from our female gendered subset:"
   ]
  },
  {
   "cell_type": "code",
   "execution_count": 23,
   "metadata": {},
   "outputs": [],
   "source": [
    "her_tokens = [token for token,weight in model.most_similar(positive=['she','her','hers','herself'], \\\n",
    "                                                       negative=['he','him','his','himself'], topn=50)]"
   ]
  },
  {
   "cell_type": "markdown",
   "metadata": {},
   "source": [
    "We need to get the vector from each word, just like above, and add that to a list:"
   ]
  },
  {
   "cell_type": "code",
   "execution_count": 24,
   "metadata": {},
   "outputs": [],
   "source": [
    "vectors = [model[word] for word in her_tokens]    "
   ]
  },
  {
   "cell_type": "markdown",
   "metadata": {},
   "source": [
    "We can then calculate pairwise the cosine distance:"
   ]
  },
  {
   "cell_type": "code",
   "execution_count": 25,
   "metadata": {},
   "outputs": [],
   "source": [
    "from sklearn.metrics import pairwise\n",
    "dist_matrix = pairwise.pairwise_distances(vectors, metric='cosine')"
   ]
  },
  {
   "cell_type": "markdown",
   "metadata": {},
   "source": [
    "We'll use `MDS` to reduce the dimensions to two:"
   ]
  },
  {
   "cell_type": "code",
   "execution_count": 26,
   "metadata": {},
   "outputs": [],
   "source": [
    "from sklearn.manifold import MDS\n",
    "mds = MDS(n_components = 2, dissimilarity='precomputed')\n",
    "embeddings = mds.fit_transform(dist_matrix)"
   ]
  },
  {
   "cell_type": "markdown",
   "metadata": {},
   "source": [
    "Some fancy `matplotlib` code..."
   ]
  },
  {
   "cell_type": "code",
   "execution_count": 27,
   "metadata": {},
   "outputs": [
    {
     "data": {
      "image/png": "[encoded data removed]",
      "text/plain": [
       "<matplotlib.figure.Figure at 0x7f169330ea20>"
      ]
     },
     "metadata": {},
     "output_type": "display_data"
    }
   ],
   "source": [
    "_, ax = plt.subplots(figsize=(10,10))\n",
    "ax.scatter(embeddings[:,0], embeddings[:,1], alpha=0)\n",
    "for i in range(len(vectors)):\n",
    "    ax.annotate(her_tokens[i], ((embeddings[i,0], embeddings[i,1])))"
   ]
  },
  {
   "cell_type": "markdown",
   "metadata": {
    "collapsed": true
   },
   "source": [
    "What kinds of semantic relationships exist in the diagram above? Are there any words that seem out of place? How do you think they go there?"
   ]
  },
  {
   "cell_type": "code",
   "execution_count": null,
   "metadata": {},
   "outputs": [],
   "source": []
  },
  {
   "cell_type": "markdown",
   "metadata": {},
   "source": [
    "---\n",
    "\n",
    "# Saving/Loading Models\n",
    "\n",
    "We can save the model as a `.txt` file with the `save_word2vec_format` method:"
   ]
  },
  {
   "cell_type": "code",
   "execution_count": 28,
   "metadata": {},
   "outputs": [],
   "source": [
    "model.wv.save_word2vec_format('word2vec.txtalb_Novel150_English.txt')"
   ]
  },
  {
   "cell_type": "markdown",
   "metadata": {},
   "source": [
    "To load up a model, we just ask `gensim`. Here's a model trained on Eighteenth Century Collections Online corpus (~2500 texts) made available by Ryan Heuser: http://ryanheuser.org/word-vectors-1/"
   ]
  },
  {
   "cell_type": "code",
   "execution_count": 29,
   "metadata": {},
   "outputs": [],
   "source": [
    "ecco_model = gensim.models.KeyedVectors.load_word2vec_format('data/word2vec.ECCO-TCP.txt')"
   ]
  },
  {
   "cell_type": "code",
   "execution_count": 30,
   "metadata": {},
   "outputs": [
    {
     "data": {
      "text/plain": [
       "[('queen', 0.7854657173156738),\n",
       " ('emperor', 0.7523162364959717),\n",
       " ('prince', 0.7436755895614624),\n",
       " ('princess', 0.713316798210144),\n",
       " ('conqueror', 0.7111818194389343),\n",
       " ('regent', 0.7088087797164917),\n",
       " ('empress', 0.6977599263191223),\n",
       " ('sultan', 0.6729022264480591),\n",
       " ('confessor', 0.6569845676422119),\n",
       " ('duke', 0.6366889476776123)]"
      ]
     },
     "execution_count": 30,
     "metadata": {},
     "output_type": "execute_result"
    }
   ],
   "source": [
    "ecco_model.most_similar(positive=['woman', 'king'], negative=['man'])"
   ]
  },
  {
   "cell_type": "code",
   "execution_count": 31,
   "metadata": {},
   "outputs": [
    {
     "data": {
      "text/plain": [
       "[(\"harriet's\", 0.5708541870117188),\n",
       " ('softness', 0.5513930320739746),\n",
       " ('maiden', 0.5411286354064941),\n",
       " (\"chloe's\", 0.5403314828872681),\n",
       " ('lovely', 0.5320479869842529),\n",
       " ('coy', 0.5259038209915161),\n",
       " ('bewitching', 0.5255858898162842),\n",
       " ('soft', 0.5217857956886292),\n",
       " ('blushing', 0.5112706422805786),\n",
       " ('virgin', 0.5070083141326904)]"
      ]
     },
     "execution_count": 31,
     "metadata": {},
     "output_type": "execute_result"
    }
   ],
   "source": [
    "ecco_model.most_similar(positive=['she','her','hers','herself'], negative=['he','him','his','himself'])"
   ]
  },
  {
   "cell_type": "markdown",
   "metadata": {},
   "source": [
    "How does this differ from our novels model?"
   ]
  },
  {
   "cell_type": "code",
   "execution_count": null,
   "metadata": {},
   "outputs": [],
   "source": []
  },
  {
   "cell_type": "markdown",
   "metadata": {
    "collapsed": true
   },
   "source": [
    "---\n",
    "\n",
    "# Homework\n",
    "\n",
    "Heuser's blog post explores an analogy in eighteenth-century thought that Riches are to Virtue what Learning is to Genius. How true is this in the ECCO-trained Word2Vec model? Is it true in the one we trained?\n",
    "\n",
    "How might we compare word2vec models more generally?"
   ]
  },
  {
   "cell_type": "code",
   "execution_count": null,
   "metadata": {},
   "outputs": [],
   "source": []
  },
  {
   "cell_type": "markdown",
   "metadata": {},
   "source": [
    "---\n",
    "\n",
    "# Alternative features for a classification model\n",
    "\n",
    "This is really cool but what implications does this have for our model of language? Well, word embeddings are simply more precise features of what we've been trying to get at already. That means we can use them in the machine learning models we've been building.\n",
    "\n",
    "Recall our DTM bag of words classifier:"
   ]
  },
  {
   "cell_type": "code",
   "execution_count": 32,
   "metadata": {},
   "outputs": [
    {
     "name": "stdout",
     "output_type": "stream",
     "text": [
      "[nltk_data] Downloading package movie_reviews to /srv/app/nltk_data...\n",
      "[nltk_data]   Unzipping corpora/movie_reviews.zip.\n"
     ]
    },
    {
     "data": {
      "text/plain": [
       "True"
      ]
     },
     "execution_count": 32,
     "metadata": {},
     "output_type": "execute_result"
    }
   ],
   "source": [
    "import nltk\n",
    "nltk.download(\"movie_reviews\")"
   ]
  },
  {
   "cell_type": "code",
   "execution_count": 33,
   "metadata": {},
   "outputs": [
    {
     "data": {
      "text/plain": [
       "0.87250000000000005"
      ]
     },
     "execution_count": 33,
     "metadata": {},
     "output_type": "execute_result"
    }
   ],
   "source": [
    "from nltk.corpus import movie_reviews\n",
    "from sklearn.pipeline import Pipeline\n",
    "from sklearn.feature_extraction.text import TfidfVectorizer, CountVectorizer, TfidfTransformer\n",
    "from sklearn.linear_model import LogisticRegression\n",
    "from sklearn.model_selection import cross_val_score, train_test_split\n",
    "from sklearn.utils import shuffle\n",
    "\n",
    "reviews = [movie_reviews.raw(fileid) for fileid in movie_reviews.fileids()]\n",
    "judgements = [movie_reviews.categories(fileid)[0] for fileid in movie_reviews.fileids()]\n",
    "\n",
    "np.random.seed(0)\n",
    "\n",
    "X, y = shuffle(reviews, judgements, random_state=0)\n",
    "X_train, X_test, y_train, y_test = train_test_split(X, y, test_size=0.2, random_state=50)\n",
    "\n",
    "# get tfidf values\n",
    "tfidf = TfidfVectorizer()\n",
    "tfidf.fit(X)\n",
    "X_train_transformed = tfidf.transform(X_train)\n",
    "X_test_transformed = tfidf.transform(X_test)\n",
    "\n",
    "# build and test logit\n",
    "logit_class = LogisticRegression(penalty='l2', C=1000)\n",
    "logit_model = logit_class.fit(X_train_transformed, y_train)\n",
    "logit_model.score(X_test_transformed, y_test)"
   ]
  },
  {
   "cell_type": "markdown",
   "metadata": {},
   "source": [
    "---\n",
    "\n",
    "So how can we use word embeddings as features? Believe it or not, one of the most effective ways is to simply average each dimension of our embedding across all the words for a given document. Recall our w2v model for novels was trained for 100 dimensions. Creating the features for a specific document would entail first extracting the 100 dimensions for each word, then average each dimension across all words:"
   ]
  },
  {
   "cell_type": "code",
   "execution_count": 34,
   "metadata": {},
   "outputs": [
    {
     "data": {
      "text/plain": [
       "array([-0.86721265,  0.65927458,  0.38148916, -0.16515677, -0.74919486,\n",
       "        0.35815531, -0.27271143, -0.24489492, -0.32403937, -0.03674171,\n",
       "       -0.62859678,  0.14786351, -0.53284234,  0.50110048,  0.30629885,\n",
       "       -0.84067529, -0.02939497, -0.50702965, -0.13977095, -0.27349269,\n",
       "       -0.12764941, -0.1183802 , -0.08050266,  0.18223007,  0.38268563,\n",
       "        0.21684456,  0.07963157, -0.72999072,  0.33881205,  0.41768461,\n",
       "        0.01021805, -0.23146498, -0.0912041 , -0.2753835 , -0.01787647,\n",
       "        0.00282279,  0.4731822 ,  0.24763599,  0.85679173, -0.11328914,\n",
       "        0.03884919, -0.11634649,  0.51895231,  0.02116567, -0.20737293,\n",
       "        0.49326611, -0.23798545,  0.34520626,  0.09478536, -0.66405344,\n",
       "       -0.38279307, -0.0267011 ,  0.22683875, -0.08496095,  0.17393096,\n",
       "        0.10487702,  0.61723161,  0.11805099, -0.02807419,  0.35033929,\n",
       "        0.2892485 , -0.78541088, -0.34410492,  0.16266681, -0.36562636,\n",
       "       -0.04642203, -0.38382554,  0.11305425,  0.025546  ,  0.01382757,\n",
       "       -0.19042662, -0.44640544,  0.33179289,  0.02381114,  0.18046081,\n",
       "       -0.01473517, -0.31448823, -0.22757104, -0.52178854, -0.13525207,\n",
       "        0.2642765 , -0.22693381,  0.02608328,  0.6145339 ,  0.33167925,\n",
       "        0.4359386 ,  0.09402331,  0.11828341,  0.22468112,  0.21964657,\n",
       "       -0.22392818, -0.32327089, -0.40462771,  0.12627631,  0.12809595,\n",
       "        0.19119847,  0.28147775,  0.07277758, -0.13246343, -0.19904964], dtype=float32)"
      ]
     },
     "execution_count": 34,
     "metadata": {},
     "output_type": "execute_result"
    }
   ],
   "source": [
    "np.mean([model[w] for w in fast_tokenize(X[0]) if w in model], axis=0)"
   ]
  },
  {
   "cell_type": "markdown",
   "metadata": {},
   "source": [
    "This gives us a set `X` array with 100 features. We can write a function to do this for us for any given string:"
   ]
  },
  {
   "cell_type": "code",
   "execution_count": 35,
   "metadata": {},
   "outputs": [],
   "source": [
    "def w2v_featurize(document, model):\n",
    "    return np.mean([model[w] for w in fast_tokenize(document) if w in model], axis=0)"
   ]
  },
  {
   "cell_type": "markdown",
   "metadata": {},
   "source": [
    "We can then featurize all of our documents:"
   ]
  },
  {
   "cell_type": "code",
   "execution_count": 36,
   "metadata": {},
   "outputs": [],
   "source": [
    "X_train_w2v = [w2v_featurize(d, model) for d in X_train]\n",
    "X_test_w2v = [w2v_featurize(d, model) for d in X_test]"
   ]
  },
  {
   "cell_type": "markdown",
   "metadata": {},
   "source": [
    "We can fit and score the machine learning modle just as before:"
   ]
  },
  {
   "cell_type": "code",
   "execution_count": 37,
   "metadata": {},
   "outputs": [
    {
     "data": {
      "text/plain": [
       "0.78000000000000003"
      ]
     },
     "execution_count": 37,
     "metadata": {},
     "output_type": "execute_result"
    }
   ],
   "source": [
    "logit_class = LogisticRegression(random_state=0, penalty='l2', C=1000)\n",
    "logit_model = logit_class.fit(X_train_w2v, y_train)\n",
    "logit_model.score(X_test_w2v, y_test)"
   ]
  },
  {
   "cell_type": "code",
   "execution_count": 38,
   "metadata": {},
   "outputs": [],
   "source": [
    "#neural networks not conclusive, but maybe accurate"
   ]
  },
  {
   "cell_type": "markdown",
   "metadata": {},
   "source": [
    "What about Heuser's model?"
   ]
  },
  {
   "cell_type": "code",
   "execution_count": 39,
   "metadata": {},
   "outputs": [
    {
     "data": {
      "text/plain": [
       "0.77249999999999996"
      ]
     },
     "execution_count": 39,
     "metadata": {},
     "output_type": "execute_result"
    }
   ],
   "source": [
    "X_train_w2v = [w2v_featurize(d, ecco_model) for d in X_train]\n",
    "X_test_w2v = [w2v_featurize(d, ecco_model) for d in X_test]\n",
    "logit_class = LogisticRegression(random_state=0, penalty='l2', C=1000)\n",
    "logit_model = logit_class.fit(X_train_w2v, y_train)\n",
    "logit_model.score(X_test_w2v, y_test)"
   ]
  },
  {
   "cell_type": "markdown",
   "metadata": {},
   "source": [
    "Cool! But wait, what if we wanted to know *why* the model was making decisions. If we ask for the most postive coefficients:"
   ]
  },
  {
   "cell_type": "code",
   "execution_count": 40,
   "metadata": {},
   "outputs": [
    {
     "data": {
      "text/plain": [
       "array([77, 67, 88, 81, 15, 47, 57, 36, 90, 70])"
      ]
     },
     "execution_count": 40,
     "metadata": {},
     "output_type": "execute_result"
    }
   ],
   "source": [
    "np.argsort(logit_model.coef_[0])[-10:]"
   ]
  },
  {
   "cell_type": "markdown",
   "metadata": {},
   "source": [
    "And the negative:"
   ]
  },
  {
   "cell_type": "code",
   "execution_count": 41,
   "metadata": {},
   "outputs": [
    {
     "data": {
      "text/plain": [
       "array([97, 96, 49, 87,  0, 52, 84, 42, 43,  1])"
      ]
     },
     "execution_count": 41,
     "metadata": {},
     "output_type": "execute_result"
    }
   ],
   "source": [
    "np.argsort(logit_model.coef_[0])[:10]"
   ]
  },
  {
   "cell_type": "markdown",
   "metadata": {},
   "source": [
    "These are the *indices* for the important features. ***But what are these features now?***\n",
    "\n",
    "---\n",
    "\n",
    "Note that using our novels w2v model was not as accurate as a BoW tfidf method. That should be expected given movie review language is likely ***VERY*** different from our novel corpus. And our novel corpus likely didn't even have entries for a lot of the words used in our movie reviews corpus.\n",
    "\n",
    "For modern English, most people look for Stanford's [GloVe](https://nlp.stanford.edu/projects/glove/) model. This was trained on 6 billion tokens from Wikipedia and Gigaword! Quite a step up from 150 novels. Even the smallest model is a bit large to be working with on our cloud server, but using this model and the code below, you can see it's power:"
   ]
  },
  {
   "cell_type": "markdown",
   "metadata": {},
   "source": [
    "```python\n",
    ">>> os.system('python -m gensim.scripts.glove2word2vec -i glove.6B.100d.txt -o glove.6B.100d.w2v.txt')\n",
    ">>> glove = gensim.models.KeyedVectors.load_word2vec_format('glove.6B.100d.w2v.txt')\n",
    "\n",
    ">>> X_train_glove = [w2v_featurize(d, glove) for d in X_train]\n",
    ">>> X_test_glove = [w2v_featurize(d, glove) for d in X_test]\n",
    "\n",
    ">>> logit_class = LogisticRegression(random_state=0, penalty='l2', C=1000)\n",
    ">>> logit_model = logit_class.fit(X_train_glove, y_train)\n",
    ">>> logit_model.score(X_test_glove, y_test)\n",
    "\n",
    ".8125\n",
    "```"
   ]
  },
  {
   "cell_type": "markdown",
   "metadata": {},
   "source": [
    "While this is not as accurate as our BoW *tfidf* method, there have been several applications and transformations of word embeddings that have proven to be more accurate than a BoW *tfidf* on general modern text corpora. And keep in mind, one of the most interesting parts of this is that it only uses 100 dimensions, i.e., we can get ~81% accuracy by reducing a movie review to only 100 different features (our BoW model had over 39000!)."
   ]
  },
  {
   "cell_type": "code",
   "execution_count": 42,
   "metadata": {},
   "outputs": [
    {
     "data": {
      "text/plain": [
       "<1600x39659 sparse matrix of type '<class 'numpy.float64'>'\n",
       "\twith 536995 stored elements in Compressed Sparse Row format>"
      ]
     },
     "execution_count": 42,
     "metadata": {},
     "output_type": "execute_result"
    }
   ],
   "source": [
    "X_train_transformed"
   ]
  },
  {
   "cell_type": "code",
   "execution_count": null,
   "metadata": {},
   "outputs": [],
   "source": []
  }
 ],
 "metadata": {
  "anaconda-cloud": {},
  "kernelspec": {
   "display_name": "Python 3",
   "language": "python",
   "name": "python3"
  },
  "language_info": {
   "codemirror_mode": {
    "name": "ipython",
    "version": 3
   },
   "file_extension": ".py",
   "mimetype": "text/x-python",
   "name": "python",
   "nbconvert_exporter": "python",
   "pygments_lexer": "ipython3",
   "version": "3.6.1"
  }
 },
 "nbformat": 4,
 "nbformat_minor": 1
}
